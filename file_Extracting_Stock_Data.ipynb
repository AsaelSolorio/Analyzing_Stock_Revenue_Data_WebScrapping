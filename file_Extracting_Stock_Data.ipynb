{
 "cells": [
  {
   "attachments": {},
   "cell_type": "markdown",
   "metadata": {},
   "source": [
    "<h2>Analyzing Stock/Revenue Data</h2>\n",
    "<div class=\"alert alert-block alert-info\" style=\"margin-top: 20px\">\n",
    "    <ul>\n",
    "        <li>Define a Function that Makes a Graph</li>\n",
    "        <li>Question 1: Use yfinance to Extract Stock Data</li>\n",
    "        <li>Question 2: Use Webscraping to Extract Tesla Revenue Data</li>\n",
    "        <li>Question 3: Use yfinance to Extract Stock Data</li>\n",
    "        <li>Question 4: Use Webscraping to Extract GME Revenue Data</li>\n",
    "        <li>Question 5: Plot Tesla Stock Graph</li>\n",
    "        <li>Question 6: Plot GameStop Stock Graph</li>\n",
    "    </ul>\n",
    "</div>\n",
    "\n",
    "<hr>"
   ]
  },
  {
   "cell_type": "code",
   "execution_count": 1,
   "metadata": {},
   "outputs": [],
   "source": [
    "import yfinance as yf\n",
    "import pandas as pd\n",
    "import requests\n",
    "from bs4 import BeautifulSoup\n",
    "import plotly.graph_objects as go\n",
    "from plotly.subplots import make_subplots"
   ]
  },
  {
   "cell_type": "code",
   "execution_count": 17,
   "metadata": {},
   "outputs": [],
   "source": [
    "def make_graph(stock_data, revenue_data, stock):\n",
    "    fig = make_subplots(rows=2, cols=1, shared_xaxes=True, subplot_titles=(\"Historical Share Price\", \"Historical Revenue\"), vertical_spacing = .3)\n",
    "    stock_data_specific = stock_data[stock_data.Date <= '2021--06-14']\n",
    "    revenue_data_specific = revenue_data[revenue_data.Date <= '2021-04-30']\n",
    "    fig.add_trace(go.Scatter(x=pd.to_datetime(stock_data_specific.Date, infer_datetime_format=True), y=stock_data_specific.Close.astype(\"float\"), name=\"Share Price\"), row=1, col=1)\n",
    "    fig.add_trace(go.Scatter(x=pd.to_datetime(revenue_data_specific.Date, infer_datetime_format=True), y=revenue_data_specific.Revenue.astype(\"float\"), name=\"Revenue\"), row=2, col=1)\n",
    "    fig.update_xaxes(title_text=\"Date\", row=1, col=1)\n",
    "    fig.update_xaxes(title_text=\"Date\", row=2, col=1)\n",
    "    fig.update_yaxes(title_text=\"Price ($US)\", row=1, col=1)\n",
    "    fig.update_yaxes(title_text=\"Revenue ($US Millions)\", row=2, col=1)\n",
    "    fig.update_layout(showlegend=False,\n",
    "    height=900,\n",
    "    title=stock,\n",
    "    xaxis_rangeslider_visible=True)\n",
    "    fig.show()"
   ]
  },
  {
   "attachments": {},
   "cell_type": "markdown",
   "metadata": {},
   "source": [
    "### **QUESTION 1**\n",
    "\n",
    "- Using the Ticker function enter the ticker symbol of the stock we want to extract data on to create a ticker object. The stock is Tesla and its ticker symbol is TSLA.\n",
    "\n",
    "- Using the ticker object and the function history extract stock information and save it in a dataframe named tesla_data. Set the period parameter to current month, if you try by your own, set your current month."
   ]
  },
  {
   "cell_type": "code",
   "execution_count": 64,
   "metadata": {},
   "outputs": [
    {
     "data": {
      "text/html": [
       "<div>\n",
       "<style scoped>\n",
       "    .dataframe tbody tr th:only-of-type {\n",
       "        vertical-align: middle;\n",
       "    }\n",
       "\n",
       "    .dataframe tbody tr th {\n",
       "        vertical-align: top;\n",
       "    }\n",
       "\n",
       "    .dataframe thead th {\n",
       "        text-align: right;\n",
       "    }\n",
       "</style>\n",
       "<table border=\"1\" class=\"dataframe\">\n",
       "  <thead>\n",
       "    <tr style=\"text-align: right;\">\n",
       "      <th></th>\n",
       "      <th>Date</th>\n",
       "      <th>Open</th>\n",
       "      <th>High</th>\n",
       "      <th>Low</th>\n",
       "      <th>Close</th>\n",
       "      <th>Volume</th>\n",
       "      <th>Dividends</th>\n",
       "      <th>Stock Splits</th>\n",
       "    </tr>\n",
       "  </thead>\n",
       "  <tbody>\n",
       "    <tr>\n",
       "      <th>0</th>\n",
       "      <td>2023-04-03 00:00:00-04:00</td>\n",
       "      <td>199.910004</td>\n",
       "      <td>202.690002</td>\n",
       "      <td>192.199997</td>\n",
       "      <td>194.770004</td>\n",
       "      <td>169545900</td>\n",
       "      <td>0.0</td>\n",
       "      <td>0.0</td>\n",
       "    </tr>\n",
       "    <tr>\n",
       "      <th>1</th>\n",
       "      <td>2023-04-04 00:00:00-04:00</td>\n",
       "      <td>197.320007</td>\n",
       "      <td>198.740005</td>\n",
       "      <td>190.320007</td>\n",
       "      <td>192.580002</td>\n",
       "      <td>126463800</td>\n",
       "      <td>0.0</td>\n",
       "      <td>0.0</td>\n",
       "    </tr>\n",
       "    <tr>\n",
       "      <th>2</th>\n",
       "      <td>2023-04-05 00:00:00-04:00</td>\n",
       "      <td>190.520004</td>\n",
       "      <td>190.679993</td>\n",
       "      <td>183.759995</td>\n",
       "      <td>185.520004</td>\n",
       "      <td>133882500</td>\n",
       "      <td>0.0</td>\n",
       "      <td>0.0</td>\n",
       "    </tr>\n",
       "    <tr>\n",
       "      <th>3</th>\n",
       "      <td>2023-04-06 00:00:00-04:00</td>\n",
       "      <td>183.080002</td>\n",
       "      <td>186.389999</td>\n",
       "      <td>179.740005</td>\n",
       "      <td>185.059998</td>\n",
       "      <td>123583100</td>\n",
       "      <td>0.0</td>\n",
       "      <td>0.0</td>\n",
       "    </tr>\n",
       "  </tbody>\n",
       "</table>\n",
       "</div>"
      ],
      "text/plain": [
       "                       Date        Open        High         Low       Close  \\\n",
       "0 2023-04-03 00:00:00-04:00  199.910004  202.690002  192.199997  194.770004   \n",
       "1 2023-04-04 00:00:00-04:00  197.320007  198.740005  190.320007  192.580002   \n",
       "2 2023-04-05 00:00:00-04:00  190.520004  190.679993  183.759995  185.520004   \n",
       "3 2023-04-06 00:00:00-04:00  183.080002  186.389999  179.740005  185.059998   \n",
       "\n",
       "      Volume  Dividends  Stock Splits  \n",
       "0  169545900        0.0           0.0  \n",
       "1  126463800        0.0           0.0  \n",
       "2  133882500        0.0           0.0  \n",
       "3  123583100        0.0           0.0  "
      ]
     },
     "execution_count": 64,
     "metadata": {},
     "output_type": "execute_result"
    }
   ],
   "source": [
    "tesla = yf.Ticker(\"TSLA\")\n",
    "tesla_data = tesla.history(start=\"2023-04-01\", end=\"2023-04-07\")\n",
    "tesla_data.reset_index(inplace=True)\n",
    "#reset_index method works to transform the column 'Date' part of the dataframe\n",
    "tesla_data"
   ]
  },
  {
   "attachments": {},
   "cell_type": "markdown",
   "metadata": {},
   "source": [
    "### **QUESTION 2**"
   ]
  },
  {
   "attachments": {},
   "cell_type": "markdown",
   "metadata": {},
   "source": [
    "- Use the requests library to download the webpage https://www.macrotrends.net/stocks/charts/TSLA/tesla/revenue. Save the text of the response as a variable named html_data.\n",
    "\n",
    "- Parse the html data using beautiful_soup.\n",
    "\n",
    "- Using beautiful soup extract the table with Tesla Quarterly Revenue and store it into a dataframe named tesla_revenue. The dataframe should have columns Date and Revenue. Make sure the comma and dollar sign is removed from the Revenue column."
   ]
  },
  {
   "cell_type": "code",
   "execution_count": 79,
   "metadata": {},
   "outputs": [],
   "source": [
    "url= \"https://www.macrotrends.net/stocks/charts/TSLA/tesla/revenue\"\n",
    "html_data=requests.get(url).text\n",
    "soup = BeautifulSoup(html_data,\"html5lib\")"
   ]
  },
  {
   "cell_type": "code",
   "execution_count": 80,
   "metadata": {},
   "outputs": [
    {
     "data": {
      "text/html": [
       "<div>\n",
       "<style scoped>\n",
       "    .dataframe tbody tr th:only-of-type {\n",
       "        vertical-align: middle;\n",
       "    }\n",
       "\n",
       "    .dataframe tbody tr th {\n",
       "        vertical-align: top;\n",
       "    }\n",
       "\n",
       "    .dataframe thead th {\n",
       "        text-align: right;\n",
       "    }\n",
       "</style>\n",
       "<table border=\"1\" class=\"dataframe\">\n",
       "  <thead>\n",
       "    <tr style=\"text-align: right;\">\n",
       "      <th></th>\n",
       "      <th>Tesla Quarterly Revenue (Millions of US $)</th>\n",
       "      <th>Tesla Quarterly Revenue (Millions of US $).1</th>\n",
       "    </tr>\n",
       "  </thead>\n",
       "  <tbody>\n",
       "    <tr>\n",
       "      <th>0</th>\n",
       "      <td>2022-12-31</td>\n",
       "      <td>$24,318</td>\n",
       "    </tr>\n",
       "    <tr>\n",
       "      <th>1</th>\n",
       "      <td>2022-09-30</td>\n",
       "      <td>$21,454</td>\n",
       "    </tr>\n",
       "    <tr>\n",
       "      <th>2</th>\n",
       "      <td>2022-06-30</td>\n",
       "      <td>$16,934</td>\n",
       "    </tr>\n",
       "    <tr>\n",
       "      <th>3</th>\n",
       "      <td>2022-03-31</td>\n",
       "      <td>$18,756</td>\n",
       "    </tr>\n",
       "    <tr>\n",
       "      <th>4</th>\n",
       "      <td>2021-12-31</td>\n",
       "      <td>$17,719</td>\n",
       "    </tr>\n",
       "  </tbody>\n",
       "</table>\n",
       "</div>"
      ],
      "text/plain": [
       "  Tesla Quarterly Revenue (Millions of US $)  \\\n",
       "0                                 2022-12-31   \n",
       "1                                 2022-09-30   \n",
       "2                                 2022-06-30   \n",
       "3                                 2022-03-31   \n",
       "4                                 2021-12-31   \n",
       "\n",
       "  Tesla Quarterly Revenue (Millions of US $).1  \n",
       "0                                      $24,318  \n",
       "1                                      $21,454  \n",
       "2                                      $16,934  \n",
       "3                                      $18,756  \n",
       "4                                      $17,719  "
      ]
     },
     "execution_count": 80,
     "metadata": {},
     "output_type": "execute_result"
    }
   ],
   "source": [
    "#here we found \"Tesla Quarterly Revenue\" table\n",
    "tesla_revenue= pd.read_html(url, match=\"Tesla Quarterly Revenue\")[0]\n",
    "tesla_revenue.head()"
   ]
  },
  {
   "cell_type": "code",
   "execution_count": 81,
   "metadata": {},
   "outputs": [],
   "source": [
    "#here we rename the columns name for date and revenue\n",
    "cols = tesla_revenue.columns\n",
    "tesla_revenue.rename (columns = {cols[0]:'Date',cols[1]:'Revenue'}, inplace=True)"
   ]
  },
  {
   "cell_type": "code",
   "execution_count": 83,
   "metadata": {},
   "outputs": [
    {
     "name": "stderr",
     "output_type": "stream",
     "text": [
      "/tmp/ipykernel_1943/2653564275.py:2: FutureWarning: The default value of regex will change from True to False in a future version. In addition, single character regular expressions will *not* be treated as literal strings when regex=True.\n",
      "  tesla_revenue['Revenue'] = tesla_revenue['Revenue'].str.replace(\"$\" , \"\").str.replace(',', '')\n"
     ]
    }
   ],
   "source": [
    "##here we replace the dollar sign into a gap, and the comma sign into a gap blanket so we can tranform it later\n",
    "tesla_revenue['Revenue'] = tesla_revenue['Revenue'].str.replace(\"$\" , \"\").str.replace(',', '')"
   ]
  },
  {
   "cell_type": "code",
   "execution_count": 84,
   "metadata": {},
   "outputs": [],
   "source": [
    "#here we transform the str type to a floar type numbers\n",
    "tesla_revenue['Revenue'] = tesla_revenue['Revenue'].astype(float)"
   ]
  },
  {
   "cell_type": "code",
   "execution_count": 88,
   "metadata": {},
   "outputs": [
    {
     "data": {
      "text/html": [
       "<div>\n",
       "<style scoped>\n",
       "    .dataframe tbody tr th:only-of-type {\n",
       "        vertical-align: middle;\n",
       "    }\n",
       "\n",
       "    .dataframe tbody tr th {\n",
       "        vertical-align: top;\n",
       "    }\n",
       "\n",
       "    .dataframe thead th {\n",
       "        text-align: right;\n",
       "    }\n",
       "</style>\n",
       "<table border=\"1\" class=\"dataframe\">\n",
       "  <thead>\n",
       "    <tr style=\"text-align: right;\">\n",
       "      <th></th>\n",
       "      <th>Date</th>\n",
       "      <th>Revenue</th>\n",
       "    </tr>\n",
       "  </thead>\n",
       "  <tbody>\n",
       "    <tr>\n",
       "      <th>0</th>\n",
       "      <td>2022-12-31</td>\n",
       "      <td>24318.0</td>\n",
       "    </tr>\n",
       "    <tr>\n",
       "      <th>1</th>\n",
       "      <td>2022-09-30</td>\n",
       "      <td>21454.0</td>\n",
       "    </tr>\n",
       "    <tr>\n",
       "      <th>2</th>\n",
       "      <td>2022-06-30</td>\n",
       "      <td>16934.0</td>\n",
       "    </tr>\n",
       "    <tr>\n",
       "      <th>3</th>\n",
       "      <td>2022-03-31</td>\n",
       "      <td>18756.0</td>\n",
       "    </tr>\n",
       "    <tr>\n",
       "      <th>4</th>\n",
       "      <td>2021-12-31</td>\n",
       "      <td>17719.0</td>\n",
       "    </tr>\n",
       "  </tbody>\n",
       "</table>\n",
       "</div>"
      ],
      "text/plain": [
       "         Date  Revenue\n",
       "0  2022-12-31  24318.0\n",
       "1  2022-09-30  21454.0\n",
       "2  2022-06-30  16934.0\n",
       "3  2022-03-31  18756.0\n",
       "4  2021-12-31  17719.0"
      ]
     },
     "execution_count": 88,
     "metadata": {},
     "output_type": "execute_result"
    }
   ],
   "source": [
    "###check if everything looks good so far\n",
    "tesla_revenue.head()"
   ]
  },
  {
   "cell_type": "code",
   "execution_count": 86,
   "metadata": {},
   "outputs": [
    {
     "name": "stdout",
     "output_type": "stream",
     "text": [
      "Numer of nulls values by column\n"
     ]
    },
    {
     "data": {
      "text/plain": [
       "Date       0\n",
       "Revenue    1\n",
       "dtype: int64"
      ]
     },
     "execution_count": 86,
     "metadata": {},
     "output_type": "execute_result"
    }
   ],
   "source": [
    "##now, another step we can do, is to clean NaN/Null Values\n",
    "##we run the next command to check how many null values we got\n",
    "print(\"Numer of nulls values by column\")\n",
    "tesla_revenue.isna().sum()"
   ]
  },
  {
   "cell_type": "code",
   "execution_count": 89,
   "metadata": {},
   "outputs": [
    {
     "name": "stdout",
     "output_type": "stream",
     "text": [
      "Numer of nulls values by column\n"
     ]
    },
    {
     "data": {
      "text/plain": [
       "Date       0\n",
       "Revenue    0\n",
       "dtype: int64"
      ]
     },
     "execution_count": 89,
     "metadata": {},
     "output_type": "execute_result"
    }
   ],
   "source": [
    "#so far, we got only 1 null value, we are going to remove it\n",
    "tesla_revenue.dropna(inplace=True)\n",
    "#and we check again\n",
    "print(\"Numer of nulls values by column\")\n",
    "tesla_revenue.isna().sum()"
   ]
  }
 ],
 "metadata": {
  "kernelspec": {
   "display_name": "base",
   "language": "python",
   "name": "python3"
  },
  "language_info": {
   "codemirror_mode": {
    "name": "ipython",
    "version": 3
   },
   "file_extension": ".py",
   "mimetype": "text/x-python",
   "name": "python",
   "nbconvert_exporter": "python",
   "pygments_lexer": "ipython3",
   "version": "3.10.9"
  },
  "orig_nbformat": 4
 },
 "nbformat": 4,
 "nbformat_minor": 2
}
